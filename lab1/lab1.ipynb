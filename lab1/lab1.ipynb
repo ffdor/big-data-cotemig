{
 "cells": [
  {
   "cell_type": "markdown",
   "metadata": {},
   "source": [
    "# Lab 2: Bem-vindo ao Python"
   ]
  },
  {
   "cell_type": "markdown",
   "metadata": {},
   "source": [
    "## Visão Geral\n",
    "\n",
    "Bem-vindo ao seu primeiro laboratório! Os laboratórios são projetados para serem sua oportunidade de experimentar Python e ganhar experiência prática com a linguagem.\n",
    "\n",
    "O principal objetivo desse laboratório é garantir que a instalação do Python ocorra sem problemas e que não haja erros persistentes de instalação do Python por aí. Este laboratório também lhe dá a chance de escrever aqueles que podem ser seus primeiros programas em Python e permite que você experimente com ambos os scripts e com o interpretador interativo!\n",
    "\n",
    "Esses problemas não pretendem ser algoritmicamente desafiadores - apenas maneiras de exercitar seus conhecimentos de Python 3. Mesmo que os problemas pareçam simples, trabalhe com eles rapidamente, e então você está livre para ir.\n",
    "\n",
    "Você é bem-vindo para trabalhar em grupos ou individualmente. Lembre-se de se divertir! Faça amigos e talvez relaxe um pouco também.\n",
    "\n",
    "** Nota: Estes laboratórios são * projetados * para serem longos! Você não deve conseguir terminar todos os problemas em um período de aula. Trabalhe o máximo que puder no tempo previsto, mas sinta-se à vontade para pular de perguntas em perguntas livremente. Os problemas extras pretendem ser uma prática extra, se você quiser aprimorar ainda mais suas habilidades em Python. **\n",
    "\n",
    "Acima de tudo, divirta-se com o Python!"
   ]
  },
  {
   "cell_type": "markdown",
   "metadata": {},
   "source": [
    "### Executando o notebook\n",
    "\n",
    "Para rodar um notebook Jupyter, primeiro mude o diretório (`cd`) para onde quer que você tenha baixado o notebook. Então, a partir de uma linha de comando, execute:\n",
    "\n",
    "```bash\n",
    "$ source ~/cs41-env/bin/activate\n",
    "(cs41-env) $ jupyter lab\n",
    "```\n",
    "Você pode precisar executar `pip install jupyterlab` dentro de seu ambiente virtual se ainda não o fez."
   ]
  },
  {
   "cell_type": "markdown",
   "metadata": {},
   "source": [
    "## Zen of Python\n",
    "\n",
    "Execute a célula de código a seguir, selecionando a célula e pressionando Shift + Enter."
   ]
  },
  {
   "cell_type": "code",
   "execution_count": 1,
   "metadata": {},
   "outputs": [
    {
     "name": "stdout",
     "output_type": "stream",
     "text": [
      "The Zen of Python, by Tim Peters\n",
      "\n",
      "Beautiful is better than ugly.\n",
      "Explicit is better than implicit.\n",
      "Simple is better than complex.\n",
      "Complex is better than complicated.\n",
      "Flat is better than nested.\n",
      "Sparse is better than dense.\n",
      "Readability counts.\n",
      "Special cases aren't special enough to break the rules.\n",
      "Although practicality beats purity.\n",
      "Errors should never pass silently.\n",
      "Unless explicitly silenced.\n",
      "In the face of ambiguity, refuse the temptation to guess.\n",
      "There should be one-- and preferably only one --obvious way to do it.\n",
      "Although that way may not be obvious at first unless you're Dutch.\n",
      "Now is better than never.\n",
      "Although never is often better than *right* now.\n",
      "If the implementation is hard to explain, it's a bad idea.\n",
      "If the implementation is easy to explain, it may be a good idea.\n",
      "Namespaces are one honking great idea -- let's do more of those!\n"
     ]
    }
   ],
   "source": [
    "import this"
   ]
  },
  {
   "cell_type": "markdown",
   "metadata": {},
   "source": [
    "## Hello World\n",
    "\n",
    "Edite a célula a seguir para que ela imprima `\" Hello, world! \"` quando executada e, em seguida, execute a célula para confirmar."
   ]
  },
  {
   "cell_type": "code",
   "execution_count": 2,
   "metadata": {},
   "outputs": [
    {
     "name": "stdout",
     "output_type": "stream",
     "text": [
      "Hello, world!\n"
     ]
    }
   ],
   "source": [
    "print (\"Hello, world!\")\n",
    "# Edit me so that I print out \"Hello, world!\" when run!"
   ]
  },
  {
   "cell_type": "markdown",
   "metadata": {},
   "source": [
    "## Aquecimento"
   ]
  },
  {
   "cell_type": "markdown",
   "metadata": {},
   "source": [
    "### Fizz, Buzz, FizzBuzz!\n",
    "Se listarmos todos os números naturais abaixo de 41 que são múltiplos de 3 ou 5, obtemos:\n",
    "\n",
    "```\n",
    " 3,  5,  6,  9, 10, 12, 15,\n",
    "18, 20, 21, 24, 25, 27, 30,\n",
    "33, 35, 36, 39, 40\n",
    "```\n",
    "\n",
    "A soma desses números é 408.\n",
    "\n",
    "Encontre a soma de todos os múltiplos de 3 ou 5 abaixo de 1001. Como teste de sanidade, os dois últimos dígitos da soma devem ser \"68\"."
   ]
  },
  {
   "cell_type": "code",
   "execution_count": 28,
   "metadata": {},
   "outputs": [
    {
     "name": "stdout",
     "output_type": "stream",
     "text": [
      "408\n",
      "234168\n"
     ]
    }
   ],
   "source": [
    "def fizzbuzz(n):\n",
    "    \"\"\"Returns the sum of all numbers less than n divisible by 3 or 5.\"\"\"\n",
    "    numeros = list()\n",
    "    for i in range(n+1):\n",
    "        if i % 3 == 0 or i % 5 == 0:\n",
    "            numeros.append(i)\n",
    "        \n",
    "    soma = sum(numeros)\n",
    "    return soma\n",
    "\n",
    "print(fizzbuzz(41))  # => 408\n",
    "print(fizzbuzz(1001))"
   ]
  },
  {
   "cell_type": "markdown",
   "metadata": {},
   "source": [
    "### Conjectura de Collatz\n",
    "\n",
    "A conjectura de * Collatz * é uma sequência iterativa definida nos inteiros positivos por:\n",
    "\n",
    "```\n",
    "n -> n / 2    se n é par\n",
    "n -> 3n + 1   se n é ímpar\n",
    "```\n",
    "\n",
    "Por exemplo, usando a regra acima e começando com 13 produzimos a sequência:\n",
    "\n",
    "```\n",
    "13 -> 40 -> 20 -> 10 -> 5 -> 16 -> 8 -> 4 -> 2 -> 1\n",
    "```\n",
    "\n",
    "Pode-se ver que esta sequência (a partir de 13 e terminando em 1) contém 10 termos. Embora não comprovado, a hipótese é que todos os números iniciais terminam em 1.\n",
    "\n",
    "Qual é o comprimento da cadeia mais longa que tem um número inicial abaixo de 1000?\n",
    "\n",
    "* NOTA: Uma vez que a cadeia comece, os termos podem ultrapassar mil. *\n",
    "\n",
    "Desafio: Mesma pergunta, mas para qualquer número inicial abaixo de 1.000.000. E quanto a qualquer número inicial abaixo de 10.000.000? Você pode precisar implementar um algoritmo mais inteligente do que ingênuo."
   ]
  },
  {
   "cell_type": "code",
   "execution_count": 39,
   "metadata": {},
   "outputs": [
    {
     "name": "stdout",
     "output_type": "stream",
     "text": [
      "10\n",
      "196\n",
      "558\n"
     ]
    },
    {
     "ename": "KeyboardInterrupt",
     "evalue": "",
     "output_type": "error",
     "traceback": [
      "\u001b[1;31m---------------------------------------------------------------------------\u001b[0m",
      "\u001b[1;31mKeyboardInterrupt\u001b[0m                         Traceback (most recent call last)",
      "\u001b[1;32m<ipython-input-39-50d7226e127c>\u001b[0m in \u001b[0;36m<module>\u001b[1;34m\u001b[0m\n\u001b[0;32m     41\u001b[0m \u001b[1;31m# Challenge: Only attempt to solve these if you feel very comfortable with this material.\u001b[0m\u001b[1;33m\u001b[0m\u001b[1;33m\u001b[0m\u001b[1;33m\u001b[0m\u001b[0m\n\u001b[0;32m     42\u001b[0m \u001b[0mprint\u001b[0m\u001b[1;33m(\u001b[0m\u001b[0mmax_collatz_len\u001b[0m\u001b[1;33m(\u001b[0m\u001b[1;36m1000000\u001b[0m\u001b[1;33m)\u001b[0m\u001b[1;33m)\u001b[0m\u001b[1;33m\u001b[0m\u001b[1;33m\u001b[0m\u001b[0m\n\u001b[1;32m---> 43\u001b[1;33m \u001b[0mprint\u001b[0m\u001b[1;33m(\u001b[0m\u001b[0mmax_collatz_len\u001b[0m\u001b[1;33m(\u001b[0m\u001b[1;36m100000000\u001b[0m\u001b[1;33m)\u001b[0m\u001b[1;33m)\u001b[0m\u001b[1;33m\u001b[0m\u001b[1;33m\u001b[0m\u001b[0m\n\u001b[0m",
      "\u001b[1;32m<ipython-input-39-50d7226e127c>\u001b[0m in \u001b[0;36mmax_collatz_len\u001b[1;34m(n)\u001b[0m\n\u001b[0;32m     30\u001b[0m                 \u001b[0mmaximo\u001b[0m \u001b[1;33m=\u001b[0m \u001b[0mdicionario\u001b[0m\u001b[1;33m[\u001b[0m\u001b[0mi\u001b[0m\u001b[1;33m]\u001b[0m\u001b[1;33m\u001b[0m\u001b[1;33m\u001b[0m\u001b[0m\n\u001b[0;32m     31\u001b[0m         \u001b[1;32melse\u001b[0m \u001b[1;33m:\u001b[0m\u001b[1;33m\u001b[0m\u001b[1;33m\u001b[0m\u001b[0m\n\u001b[1;32m---> 32\u001b[1;33m             \u001b[1;32mif\u001b[0m \u001b[0mcollatz_len\u001b[0m\u001b[1;33m(\u001b[0m\u001b[0mi\u001b[0m\u001b[1;33m)\u001b[0m \u001b[1;33m>\u001b[0m \u001b[0mmaximo\u001b[0m\u001b[1;33m:\u001b[0m\u001b[1;33m\u001b[0m\u001b[1;33m\u001b[0m\u001b[0m\n\u001b[0m\u001b[0;32m     33\u001b[0m                 \u001b[0mmaximo\u001b[0m \u001b[1;33m=\u001b[0m \u001b[0mcollatz_len\u001b[0m\u001b[1;33m(\u001b[0m\u001b[0mi\u001b[0m\u001b[1;33m)\u001b[0m\u001b[1;33m\u001b[0m\u001b[1;33m\u001b[0m\u001b[0m\n\u001b[0;32m     34\u001b[0m \u001b[1;33m\u001b[0m\u001b[0m\n",
      "\u001b[1;32m<ipython-input-39-50d7226e127c>\u001b[0m in \u001b[0;36mcollatz_len\u001b[1;34m(n)\u001b[0m\n\u001b[0;32m     12\u001b[0m             \u001b[1;32mif\u001b[0m \u001b[0mn\u001b[0m \u001b[1;33m%\u001b[0m \u001b[1;36m2\u001b[0m \u001b[1;33m==\u001b[0m \u001b[1;36m0\u001b[0m\u001b[1;33m:\u001b[0m\u001b[1;33m\u001b[0m\u001b[1;33m\u001b[0m\u001b[0m\n\u001b[0;32m     13\u001b[0m \u001b[1;33m\u001b[0m\u001b[0m\n\u001b[1;32m---> 14\u001b[1;33m                 \u001b[0mn\u001b[0m \u001b[1;33m=\u001b[0m \u001b[0mn\u001b[0m \u001b[1;33m/\u001b[0m \u001b[1;36m2\u001b[0m\u001b[1;33m\u001b[0m\u001b[1;33m\u001b[0m\u001b[0m\n\u001b[0m\u001b[0;32m     15\u001b[0m \u001b[1;33m\u001b[0m\u001b[0m\n\u001b[0;32m     16\u001b[0m             \u001b[1;32melse\u001b[0m\u001b[1;33m:\u001b[0m\u001b[1;33m\u001b[0m\u001b[1;33m\u001b[0m\u001b[0m\n",
      "\u001b[1;31mKeyboardInterrupt\u001b[0m: "
     ]
    }
   ],
   "source": [
    "def collatz_len(n):\n",
    "    \"\"\"Computes the length of the Collatz sequence starting at n.\"\"\"\n",
    "    numero_original = n\n",
    "    contador = 1\n",
    "    while n != 1:\n",
    "        if n in dicionario:\n",
    "            \n",
    "            contador += dicionario[n]\n",
    "            break\n",
    "\n",
    "        else:\n",
    "            if n % 2 == 0:\n",
    "            \n",
    "                n = n / 2\n",
    "            \n",
    "            else:\n",
    "                \n",
    "                n = 3 * n + 1\n",
    "        contador +=1\n",
    "\n",
    "    dicionario[numero_original] = contador\n",
    "    return contador\n",
    "\n",
    "def max_collatz_len(n):\n",
    "    \"\"\"Computes the longest Collatz sequence length for starting numbers less than n\"\"\"\n",
    "    maximo = 0\n",
    "    for i in range(2,n):\n",
    "        if i in dicionario:\n",
    "            if dicionario[i]>maximo:\n",
    "                maximo = dicionario[i]\n",
    "        else :\n",
    "            if collatz_len(i) > maximo:\n",
    "                maximo = collatz_len(i)\n",
    "    \n",
    "    return maximo\n",
    "\n",
    "dicionario = {}\n",
    "print(collatz_len(13))  # => 10\n",
    "print(max_collatz_len(1000))\n",
    "\n",
    "# Challenge: Only attempt to solve these if you feel very comfortable with this material.\n",
    "print(max_collatz_len(1000000))\n",
    "print(max_collatz_len(100000000))\n"
   ]
  },
  {
   "cell_type": "markdown",
   "metadata": {},
   "source": [
    "### Fahrenheit-to-Celsius converter\n",
    "\n",
    "Escreva um programa para converter graus Fahrenheit em graus Celsius (1) pedindo ao usuário um número (não necessariamente inteiro) representando a temperatura atual em graus Fahrenheit, (2) convertendo esse valor em graus Celsius equivalentes, e (3) imprimindo o valor equivalente final.\n",
    "\n",
    "Por exemplo, seu programa deve ser capaz de emular a seguinte amostra de execução:\n",
    "\n",
    "```\n",
    "Temperature F? 212\n",
    "It is 100.0 degrees Celsius.\n",
    "\n",
    "Temperature F? 98.6\n",
    "It is 37.0 degrees Celsius.\n",
    "\n",
    "Temperature F? 10\n",
    "It is -12.222222222222221 degrees Celsius.\n",
    "```\n",
    "\n",
    "Quer um desafio? Tente imprimir a temperatura final em duas casas decimais. Por exemplo, no último caso acima nós imprimiríamos `-12.22` ao invés de` -12.222222222222221`. * Dica: dê uma olhada na função [`round ()`] (https://docs.python.org/3/library/functions.html#round). Python não é ótimo?"
   ]
  },
  {
   "cell_type": "code",
   "execution_count": 9,
   "metadata": {},
   "outputs": [
    {
     "name": "stdout",
     "output_type": "stream",
     "text": [
      "Temperature F? 10\n",
      "It is  -12.22 degrees Celsius.\n"
     ]
    }
   ],
   "source": [
    "def convert_fahr_to_cels(deg_fahr):\n",
    "    \"\"\"Convert a temperature given in degrees Fahrenheit to degrees Celsius.\"\"\"\n",
    "    Celsius = (deg_fahr - 32) / 1.8 \n",
    "    return Celsius\n",
    "\n",
    "def convert():\n",
    "    \"\"\"Ask the user for a temperature in degrees Fahrenheir, and print out the temperature in degrees Celsius.\"\"\"\n",
    "    F = eval(input(\"Temperature F? \"))\n",
    "    print(\"It is \", round(convert_fahr_to_cels(F),2), \"degrees Celsius.\")\n",
    "    return\n",
    "\n",
    "convert()"
   ]
  },
  {
   "cell_type": "markdown",
   "metadata": {},
   "source": [
    "## Desafios Bônus\n",
    "\n",
    "Não se preocupe em fazer esses problemas de bônus. Na maioria dos casos, as perguntas bônus exigem que você pense de forma mais crítica ou use algoritmos mais avançados.\n",
    "\n",
    "Nesse caso, investigaremos formas avançadas de impressão e refletiremos sobre o design Python."
   ]
  },
  {
   "cell_type": "markdown",
   "metadata": {},
   "source": [
    "### Zen Printing\n",
    "\n",
    "Escreva um programa usando `print ()` que, quando executado, imprime o jogo da velha\n",
    "\n",
    "```\n",
    " X | . | . \n",
    "-----------\n",
    " . | O | . \n",
    "-----------\n",
    " . | O | X \n",
    "```\n",
    "\n",
    "Você pode encontrar os argumentos opcionais para `print ()` úteis, sobre os quais você pode ler [aqui] (https://docs.python.org/3/library/functions.html#print). Em não mais do que cinco minutos, tente usar esses argumentos opcionais para imprimir essa placa de jogo da velha."
   ]
  },
  {
   "cell_type": "code",
   "execution_count": 19,
   "metadata": {},
   "outputs": [
    {
     "name": "stdout",
     "output_type": "stream",
     "text": [
      " X | . | .\n",
      "-----------\n",
      " . | O | .\n",
      "-----------\n",
      " . | O | X\n"
     ]
    }
   ],
   "source": [
    "# Print a tic-tac-toe board using optional arguments.\n",
    "def print_tictactoe():\n",
    "    \"\"\"Print out a specific partially-filled tic-tac-toe board.\"\"\"\n",
    "    linhas = [\" X | . | .\",\n",
    "              \" . | O | .\",\n",
    "              \" . | O | X\"]\n",
    "    for i in range(3):\n",
    "        print(linhas[i])\n",
    "        if i < 2:\n",
    "            print(\"-----------\")\n",
    "    pass\n",
    "\n",
    "print_tictactoe()"
   ]
  },
  {
   "cell_type": "markdown",
   "metadata": {},
   "source": [
    "Talvez você tenha sido capaz de imprimir o tabuleiro do jogo da velha. Talvez não. No entanto, agora eu quero fazer o SUPER jogo da velha\n",
    "\n",
    "Escreva um programa que imprima uma placa SUPER jogo da velha\n",
    "\n",
    "```\n",
    "  |  |  H  |  |  H  |  |  \n",
    "--+--+--H--+--+--H--+--+--\n",
    "  |  |  H  |  |  H  |  |  \n",
    "--+--+--H--+--+--H--+--+--\n",
    "  |  |  H  |  |  H  |  |  \n",
    "========+========+========\n",
    "  |  |  H  |  |  H  |  |  \n",
    "--+--+--H--+--+--H--+--+--\n",
    "  |  |  H  |  |  H  |  |  \n",
    "--+--+--H--+--+--H--+--+--\n",
    "  |  |  H  |  |  H  |  |  \n",
    "========+========+========\n",
    "  |  |  H  |  |  H  |  |  \n",
    "--+--+--H--+--+--H--+--+--\n",
    "  |  |  H  |  |  H  |  |  \n",
    "--+--+--H--+--+--H--+--+--\n",
    "  |  |  H  |  |  H  |  |  \n",
    "```\n",
    "\n",
    "Você descobrirá que pode haver muitas maneiras de resolver esse problema. Qual você acha que é o mais 'pythônico'? Converse com alguém próximo a você sobre sua abordagem para esse problema. Lembre-se do Zen do Python!"
   ]
  },
  {
   "cell_type": "code",
   "execution_count": 38,
   "metadata": {},
   "outputs": [
    {
     "name": "stdout",
     "output_type": "stream",
     "text": [
      "  |  |  H  |  |  H  |  | \n",
      "--+--+--H--+--+--H--+--+--\n",
      "  |  |  H  |  |  H  |  | \n",
      "--+--+--H--+--+--H--+--+--\n",
      "  |  |  H  |  |  H  |  | \n",
      "========+========+========\n",
      "  |  |  H  |  |  H  |  | \n",
      "--+--+--H--+--+--H--+--+--\n",
      "  |  |  H  |  |  H  |  | \n",
      "--+--+--H--+--+--H--+--+--\n",
      "  |  |  H  |  |  H  |  | \n",
      "========+========+========\n",
      "  |  |  H  |  |  H  |  | \n",
      "--+--+--H--+--+--H--+--+--\n",
      "  |  |  H  |  |  H  |  | \n",
      "--+--+--H--+--+--H--+--+--\n",
      "  |  |  H  |  |  H  |  | \n"
     ]
    }
   ],
   "source": [
    "def print_super_tictactoe():\n",
    "    \"\"\"Print an empty SUPER tic-tac-toe board.\"\"\"\n",
    "    linha1 = \"  |  |  H  |  |  H  |  | \"\n",
    "    linha2 = \"--+--+--H--+--+--H--+--+--\"\n",
    "    separador = \"========+========+========\"\n",
    "    for i in range(1,18):\n",
    "        if i % 6 == 0:\n",
    "            print(separador)\n",
    "        elif i % 2 == 0:\n",
    "            print(linha2)\n",
    "        else:\n",
    "            print(linha1)\n",
    "    pass\n",
    "    \n",
    "print_super_tictactoe()"
   ]
  },
  {
   "cell_type": "markdown",
   "metadata": {},
   "source": [
    "## Acabou cedo?\n",
    "\n",
    "Leia o [Guia de Estilo do Python] (https://www.python.org/dev/peps/pep-0008/), mantendo em mente o Zen do Python. De que maneira você percebe que as diretrizes de estilo do Python são influenciadas pela filosofia principal do Python? Algumas partes do guia de estilo abordam características de linguagem que ainda não foram abordadas em sala de aula - sinta-se à vontade para pular essas seções por enquanto."
   ]
  },
  {
   "cell_type": "markdown",
   "metadata": {},
   "source": [
    "## Créditos\n",
    "\n",
    "https://stanfordpython.com"
   ]
  }
 ],
 "metadata": {
  "kernelspec": {
   "display_name": "Python 3",
   "language": "python",
   "name": "python3"
  },
  "language_info": {
   "codemirror_mode": {
    "name": "ipython",
    "version": 3
   },
   "file_extension": ".py",
   "mimetype": "text/x-python",
   "name": "python",
   "nbconvert_exporter": "python",
   "pygments_lexer": "ipython3",
   "version": "3.7.3"
  }
 },
 "nbformat": 4,
 "nbformat_minor": 2
}
